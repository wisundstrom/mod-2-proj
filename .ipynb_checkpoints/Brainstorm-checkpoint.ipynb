{
 "cells": [
  {
   "cell_type": "code",
   "execution_count": 1,
   "metadata": {},
   "outputs": [],
   "source": [
    "import sqlite3 \n",
    "conn = sqlite3.connect('database.sqlite')\n",
    "c = conn.cursor()\n",
    "import pandas as pd\n",
    "import requests\n",
    "import json"
   ]
  },
  {
   "cell_type": "code",
   "execution_count": 2,
   "metadata": {},
   "outputs": [
    {
     "data": {
      "text/plain": [
       "[(15, 'Aachen'),\n",
       " (39, 'Arsenal'),\n",
       " (20, 'Aston Villa'),\n",
       " (20, 'Augsburg'),\n",
       " (49, 'Bayern Munich'),\n",
       " (26, 'Blackburn'),\n",
       " (23, 'Bochum'),\n",
       " (23, 'Bolton'),\n",
       " (21, 'Braunschweig'),\n",
       " (41, 'Chelsea'),\n",
       " (18, 'Cottbus'),\n",
       " (44, 'Dortmund'),\n",
       " (30, 'Dresden'),\n",
       " (23, 'Duisburg'),\n",
       " (38, 'Ein Frankfurt'),\n",
       " (19, 'Erzgebirge Aue'),\n",
       " (28, 'Everton'),\n",
       " (20, 'FC Koln'),\n",
       " (35, 'Fortuna Dusseldorf'),\n",
       " (20, 'Frankfurt FSV'),\n",
       " (24, 'Freiburg'),\n",
       " (36, 'Fulham'),\n",
       " (46, 'Greuther Furth'),\n",
       " (19, 'Hamburg'),\n",
       " (31, 'Hannover'),\n",
       " (20, 'Hansa Rostock'),\n",
       " (19, 'Hertha'),\n",
       " (21, 'Hoffenheim'),\n",
       " (28, 'Ingolstadt'),\n",
       " (12, 'Kaiserslautern'),\n",
       " (23, 'Karlsruhe'),\n",
       " (28, 'Leverkusen'),\n",
       " (24, 'Liverpool'),\n",
       " (29, \"M'gladbach\"),\n",
       " (27, 'Mainz'),\n",
       " (55, 'Man City'),\n",
       " (52, 'Man United'),\n",
       " (35, 'Munich 1860'),\n",
       " (29, 'Newcastle'),\n",
       " (28, 'Norwich'),\n",
       " (22, 'Nurnberg'),\n",
       " (28, 'Paderborn'),\n",
       " (24, 'QPR'),\n",
       " (47, 'Schalke 04'),\n",
       " (36, 'St Pauli'),\n",
       " (25, 'Stoke'),\n",
       " (36, 'Stuttgart'),\n",
       " (26, 'Sunderland'),\n",
       " (27, 'Swansea'),\n",
       " (39, 'Tottenham'),\n",
       " (30, 'Union Berlin'),\n",
       " (31, 'Werder Bremen'),\n",
       " (21, 'West Brom'),\n",
       " (22, 'Wigan'),\n",
       " (29, 'Wolfsburg'),\n",
       " (19, 'Wolves')]"
      ]
     },
     "execution_count": 2,
     "metadata": {},
     "output_type": "execute_result"
    }
   ],
   "source": [
    "c.execute(\"\"\"\n",
    "    SELECT SUM(FTHG), HomeTeam\n",
    "    FROM Matches\n",
    "    WHERE Season=2011\n",
    "    GROUP BY HomeTeam\n",
    "    \n",
    "\"\"\").fetchall()"
   ]
  },
  {
   "cell_type": "code",
   "execution_count": 4,
   "metadata": {},
   "outputs": [
    {
     "data": {
      "text/plain": [
       "[(15, 'Aachen'),\n",
       " (35, 'Arsenal'),\n",
       " (17, 'Aston Villa'),\n",
       " (16, 'Augsburg'),\n",
       " (28, 'Bayern Munich'),\n",
       " (22, 'Blackburn'),\n",
       " (18, 'Bochum'),\n",
       " (23, 'Bolton'),\n",
       " (16, 'Braunschweig'),\n",
       " (24, 'Chelsea'),\n",
       " (12, 'Cottbus'),\n",
       " (36, 'Dortmund'),\n",
       " (20, 'Dresden'),\n",
       " (19, 'Duisburg'),\n",
       " (38, 'Ein Frankfurt'),\n",
       " (12, 'Erzgebirge Aue'),\n",
       " (22, 'Everton'),\n",
       " (19, 'FC Koln'),\n",
       " (29, 'Fortuna Dusseldorf'),\n",
       " (23, 'Frankfurt FSV'),\n",
       " (21, 'Freiburg'),\n",
       " (12, 'Fulham'),\n",
       " (27, 'Greuther Furth'),\n",
       " (16, 'Hamburg'),\n",
       " (10, 'Hannover'),\n",
       " (14, 'Hansa Rostock'),\n",
       " (19, 'Hertha'),\n",
       " (20, 'Hoffenheim'),\n",
       " (15, 'Ingolstadt'),\n",
       " (12, 'Kaiserslautern'),\n",
       " (11, 'Karlsruhe'),\n",
       " (24, 'Leverkusen'),\n",
       " (23, 'Liverpool'),\n",
       " (20, \"M'gladbach\"),\n",
       " (20, 'Mainz'),\n",
       " (38, 'Man City'),\n",
       " (37, 'Man United'),\n",
       " (27, 'Munich 1860'),\n",
       " (27, 'Newcastle'),\n",
       " (24, 'Norwich'),\n",
       " (16, 'Nurnberg'),\n",
       " (23, 'Paderborn'),\n",
       " (19, 'QPR'),\n",
       " (27, 'Schalke 04'),\n",
       " (23, 'St Pauli'),\n",
       " (11, 'Stoke'),\n",
       " (27, 'Stuttgart'),\n",
       " (19, 'Sunderland'),\n",
       " (17, 'Swansea'),\n",
       " (27, 'Tottenham'),\n",
       " (25, 'Union Berlin'),\n",
       " (18, 'Werder Bremen'),\n",
       " (24, 'West Brom'),\n",
       " (20, 'Wigan'),\n",
       " (18, 'Wolfsburg'),\n",
       " (21, 'Wolves')]"
      ]
     },
     "execution_count": 4,
     "metadata": {},
     "output_type": "execute_result"
    }
   ],
   "source": [
    "c.execute(\"\"\"\n",
    "    SELECT SUM(FTAG), AwayTeam\n",
    "    FROM Matches\n",
    "    WHERE Season=2011\n",
    "    GROUP BY AwayTeam\n",
    "    \n",
    "\"\"\").fetchall()"
   ]
  },
  {
   "cell_type": "code",
   "execution_count": 24,
   "metadata": {},
   "outputs": [],
   "source": [
    "dates=c.execute(\"\"\"\n",
    "    SELECT DISTINCT Date\n",
    "    FROM Matches\n",
    "    WHERE Season=2011\n",
    "    \n",
    "\"\"\").fetchall()"
   ]
  },
  {
   "cell_type": "code",
   "execution_count": 38,
   "metadata": {},
   "outputs": [
    {
     "data": {
      "text/plain": [
       "'https://api.darksky.net/forecast/d423b19fb99491f71f1f514439786979/52.517,13.3889,1270339200?exclude=currently,flags,currently,minutely,hourly'"
      ]
     },
     "execution_count": 38,
     "metadata": {},
     "output_type": "execute_result"
    }
   ],
   "source": [
    "url= f\"https://api.darksky.net/forecast/d423b19fb99491f71f1f514439786979/52.517,13.3889,{ts}?exclude=currently,flags,currently,minutely,hourly\"\n",
    "#52.5200° N, 13.4050° E\n",
    "#\"precipProbability\": 1\n",
    "# 52.517, 13.3889\n",
    "url"
   ]
  },
  {
   "cell_type": "code",
   "execution_count": 34,
   "metadata": {},
   "outputs": [],
   "source": [
    "response = requests.get(url)"
   ]
  },
  {
   "cell_type": "code",
   "execution_count": 35,
   "metadata": {},
   "outputs": [
    {
     "name": "stdout",
     "output_type": "stream",
     "text": [
      "<Response [200]>\n",
      "<class 'str'>\n",
      "{\"latitude\":52.517,\"longitude\":13.3889,\"timezone\":\"Europe/Berlin\",\"daily\":{\"data\":[{\"time\":1270332000,\"summary\":\"Mostly cloudy throughout the day.\",\"icon\":\"partly-cloudy-day\",\"sunriseTime\":1270355695,\"sunsetTime\":1270403169,\"moonPhase\":0.7,\"precipIntensity\":0,\"precipIntensityMax\":0,\"precipProbability\":0,\"temperatureHigh\":57.96,\"temperatureHighTime\":1270389600,\"temperatureLow\":44.3,\"temperatureLowTime\":1270425600,\"apparentTemperatureHigh\":57.96,\"apparentTemperatureHighTime\":1270389600,\"apparentTemperatureLow\":38.6,\"apparentTemperatureLowTime\":1270436400,\"dewPoint\":38.01,\"humidity\":0.62,\"windSpeed\":9.21,\"windGust\":14.99,\"windGustTime\":1270400400,\"windBearing\":180,\"cloudCover\":0.74,\"uvIndex\":4,\"uvIndexTime\":1270378800,\"visibility\":6.216,\"temperatureMin\":45.62,\"temperatureMinTime\":1270342800,\"temperatureMax\":57.96,\"temperatureMaxTime\":1270389600,\"apparentTemperatureMin\":41.42,\"apparentTemperatureMinTime\":1270350000,\"apparentTemperatureMax\":57.96,\"apparentTemperatureMaxTime\":1270389600}]},\"\n"
     ]
    }
   ],
   "source": [
    "print(response)\n",
    "print(type(response.text))\n",
    "print(response.text[:1000])"
   ]
  },
  {
   "cell_type": "code",
   "execution_count": 27,
   "metadata": {},
   "outputs": [
    {
     "data": {
      "text/plain": [
       "0"
      ]
     },
     "execution_count": 27,
     "metadata": {},
     "output_type": "execute_result"
    }
   ],
   "source": [
    "response.json()['daily']['data'][0]['precipProbability']"
   ]
  },
  {
   "cell_type": "code",
   "execution_count": null,
   "metadata": {},
   "outputs": [],
   "source": [
    "#def date_formatter(table_date)\n",
    "    darksky_date=table_data."
   ]
  },
  {
   "cell_type": "code",
   "execution_count": 32,
   "metadata": {},
   "outputs": [],
   "source": [
    "date=\"2010-04-04\"\n",
    "#date_formatter(date)\n",
    "date_dt=pd.to_datetime(date)\n",
    "ts=int(date_dt.timestamp())"
   ]
  },
  {
   "cell_type": "code",
   "execution_count": 40,
   "metadata": {},
   "outputs": [],
   "source": [
    "class rain_req:\n",
    "    \n",
    "    def __init__(self, date):\n",
    "        self.date=date\n",
    "        self.date_dt=pd.to_datetime(date)\n",
    "        self.date_unix=int(self.date_dt.timestamp())\n",
    "        self.url= f\"https://api.darksky.net/forecast/d423b19fb99491f71f1f514439786979/52.517,13.3889,{self.date_unix}?exclude=currently,flags,currently,minutely,hourly\"\n",
    "\n",
    "        \n",
    "    def send(self):\n",
    "        self.response=requests.get(self.url)\n",
    "        return print(self.response)\n",
    "        \n",
    "    def did_it_rain(self):\n",
    "        try:\n",
    "            self.rain=self.response.json()['daily']['data'][0]['precipIntensityMax']\n",
    "            return self.rain\n",
    "        except:\n",
    "            print('no rain data')\n",
    "           \n",
    "        \n",
    "        \n",
    "    "
   ]
  },
  {
   "cell_type": "code",
   "execution_count": 42,
   "metadata": {},
   "outputs": [],
   "source": [
    "test=rain_req('2011-08-14')"
   ]
  },
  {
   "cell_type": "code",
   "execution_count": 43,
   "metadata": {},
   "outputs": [
    {
     "data": {
      "text/plain": [
       "'https://api.darksky.net/forecast/d423b19fb99491f71f1f514439786979/52.517,13.3889,1313280000?exclude=currently,flags,currently,minutely,hourly'"
      ]
     },
     "execution_count": 43,
     "metadata": {},
     "output_type": "execute_result"
    }
   ],
   "source": [
    "test.url"
   ]
  },
  {
   "cell_type": "code",
   "execution_count": 44,
   "metadata": {},
   "outputs": [
    {
     "name": "stdout",
     "output_type": "stream",
     "text": [
      "<Response [200]>\n"
     ]
    }
   ],
   "source": [
    "test.send()"
   ]
  },
  {
   "cell_type": "code",
   "execution_count": 45,
   "metadata": {},
   "outputs": [
    {
     "data": {
      "text/plain": [
       "1"
      ]
     },
     "execution_count": 45,
     "metadata": {},
     "output_type": "execute_result"
    }
   ],
   "source": [
    "test.did_it_rain()"
   ]
  },
  {
   "cell_type": "code",
   "execution_count": 12,
   "metadata": {},
   "outputs": [
    {
     "data": {
      "text/plain": [
       "'2012-03-31'"
      ]
     },
     "execution_count": 12,
     "metadata": {},
     "output_type": "execute_result"
    }
   ],
   "source": [
    "dates[0][0]"
   ]
  },
  {
   "cell_type": "code",
   "execution_count": 25,
   "metadata": {},
   "outputs": [],
   "source": [
    "dates_list=[]\n",
    "for i in range(len(dates)):\n",
    "    dates_list.append(dates[i][0])"
   ]
  },
  {
   "cell_type": "code",
   "execution_count": 49,
   "metadata": {},
   "outputs": [
    {
     "name": "stdout",
     "output_type": "stream",
     "text": [
      "<Response [200]>\n",
      "<Response [200]>\n",
      "<Response [200]>\n",
      "<Response [200]>\n",
      "<Response [200]>\n",
      "<Response [200]>\n",
      "<Response [200]>\n",
      "<Response [200]>\n",
      "<Response [200]>\n",
      "<Response [200]>\n",
      "<Response [200]>\n",
      "<Response [200]>\n",
      "<Response [200]>\n",
      "<Response [200]>\n",
      "<Response [200]>\n",
      "<Response [200]>\n",
      "<Response [200]>\n",
      "<Response [200]>\n",
      "<Response [200]>\n",
      "<Response [200]>\n",
      "<Response [200]>\n",
      "<Response [200]>\n",
      "<Response [200]>\n",
      "<Response [200]>\n",
      "<Response [200]>\n",
      "<Response [200]>\n",
      "<Response [200]>\n",
      "<Response [200]>\n",
      "<Response [200]>\n",
      "<Response [200]>\n",
      "<Response [200]>\n",
      "<Response [200]>\n",
      "<Response [200]>\n",
      "<Response [200]>\n",
      "<Response [200]>\n",
      "<Response [200]>\n",
      "<Response [200]>\n",
      "<Response [200]>\n",
      "<Response [200]>\n",
      "<Response [200]>\n",
      "<Response [200]>\n",
      "<Response [200]>\n",
      "<Response [200]>\n",
      "<Response [200]>\n",
      "<Response [200]>\n",
      "<Response [200]>\n",
      "<Response [200]>\n",
      "<Response [200]>\n",
      "<Response [200]>\n",
      "<Response [200]>\n",
      "<Response [200]>\n",
      "<Response [200]>\n",
      "<Response [200]>\n",
      "<Response [200]>\n",
      "<Response [200]>\n",
      "<Response [200]>\n",
      "<Response [200]>\n",
      "<Response [200]>\n",
      "<Response [200]>\n",
      "<Response [200]>\n",
      "<Response [200]>\n",
      "<Response [200]>\n",
      "<Response [200]>\n",
      "<Response [200]>\n",
      "<Response [200]>\n",
      "<Response [200]>\n",
      "<Response [200]>\n",
      "<Response [200]>\n",
      "<Response [200]>\n",
      "<Response [200]>\n",
      "<Response [200]>\n",
      "<Response [200]>\n",
      "<Response [200]>\n",
      "<Response [200]>\n",
      "<Response [200]>\n",
      "<Response [200]>\n",
      "<Response [200]>\n",
      "<Response [200]>\n",
      "<Response [200]>\n",
      "<Response [200]>\n",
      "<Response [200]>\n",
      "<Response [200]>\n",
      "<Response [200]>\n",
      "<Response [200]>\n",
      "<Response [200]>\n",
      "<Response [200]>\n",
      "<Response [200]>\n",
      "<Response [200]>\n",
      "<Response [200]>\n",
      "<Response [200]>\n",
      "<Response [200]>\n",
      "<Response [200]>\n",
      "<Response [200]>\n",
      "<Response [200]>\n",
      "<Response [200]>\n",
      "<Response [200]>\n",
      "<Response [200]>\n",
      "<Response [200]>\n",
      "<Response [200]>\n",
      "<Response [200]>\n",
      "<Response [200]>\n",
      "<Response [200]>\n",
      "<Response [200]>\n",
      "<Response [200]>\n",
      "<Response [200]>\n",
      "<Response [200]>\n",
      "<Response [200]>\n",
      "<Response [200]>\n",
      "<Response [200]>\n",
      "<Response [200]>\n",
      "<Response [200]>\n",
      "<Response [200]>\n",
      "<Response [200]>\n",
      "<Response [200]>\n",
      "<Response [200]>\n",
      "<Response [200]>\n",
      "<Response [200]>\n",
      "<Response [200]>\n",
      "<Response [200]>\n",
      "<Response [200]>\n",
      "<Response [200]>\n",
      "<Response [200]>\n",
      "<Response [200]>\n",
      "<Response [200]>\n",
      "<Response [200]>\n",
      "<Response [200]>\n",
      "<Response [200]>\n",
      "<Response [200]>\n",
      "<Response [200]>\n",
      "<Response [200]>\n",
      "<Response [200]>\n",
      "<Response [200]>\n",
      "<Response [200]>\n",
      "<Response [200]>\n",
      "<Response [200]>\n",
      "<Response [200]>\n",
      "<Response [200]>\n",
      "<Response [200]>\n",
      "<Response [200]>\n",
      "<Response [200]>\n",
      "<Response [200]>\n",
      "<Response [200]>\n",
      "<Response [200]>\n",
      "<Response [200]>\n",
      "<Response [200]>\n",
      "<Response [200]>\n",
      "<Response [200]>\n",
      "<Response [200]>\n",
      "<Response [200]>\n",
      "<Response [200]>\n",
      "<Response [200]>\n",
      "<Response [200]>\n",
      "<Response [200]>\n",
      "<Response [200]>\n",
      "<Response [200]>\n",
      "<Response [200]>\n",
      "<Response [200]>\n",
      "<Response [200]>\n",
      "<Response [200]>\n",
      "<Response [200]>\n",
      "<Response [200]>\n",
      "<Response [200]>\n",
      "<Response [200]>\n",
      "<Response [200]>\n",
      "<Response [200]>\n"
     ]
    }
   ],
   "source": [
    "rainlist=[]\n",
    "for date in dates_list:\n",
    "    request=rain_req(date)\n",
    "    request.send()\n",
    "    rainlist.append(request.did_it_rain())\n",
    "    "
   ]
  },
  {
   "cell_type": "code",
   "execution_count": 50,
   "metadata": {},
   "outputs": [],
   "source": [
    "raintf=list(map(lambda x:bool(x), rainlist))"
   ]
  },
  {
   "cell_type": "code",
   "execution_count": 51,
   "metadata": {},
   "outputs": [
    {
     "data": {
      "text/plain": [
       "165"
      ]
     },
     "execution_count": 51,
     "metadata": {},
     "output_type": "execute_result"
    }
   ],
   "source": [
    "len(raintf)"
   ]
  },
  {
   "cell_type": "code",
   "execution_count": 54,
   "metadata": {},
   "outputs": [],
   "source": [
    "rain_days=dict(zip(dates_list, raintf))"
   ]
  },
  {
   "cell_type": "code",
   "execution_count": 55,
   "metadata": {},
   "outputs": [
    {
     "data": {
      "text/plain": [
       "{'2012-03-31': True,\n",
       " '2011-12-11': False,\n",
       " '2011-08-13': False,\n",
       " '2011-11-27': False,\n",
       " '2012-02-18': False,\n",
       " '2012-01-20': True,\n",
       " '2012-02-04': False,\n",
       " '2012-04-21': False,\n",
       " '2011-09-18': True,\n",
       " '2011-10-23': True,\n",
       " '2011-10-01': False,\n",
       " '2012-03-03': False,\n",
       " '2011-08-27': True,\n",
       " '2012-03-17': False,\n",
       " '2011-11-06': True,\n",
       " '2012-05-05': True,\n",
       " '2012-04-11': False,\n",
       " '2011-12-17': True,\n",
       " '2012-02-03': False,\n",
       " '2011-10-29': False,\n",
       " '2012-01-22': True,\n",
       " '2011-12-03': True,\n",
       " '2012-04-14': False,\n",
       " '2012-03-25': False,\n",
       " '2012-03-10': False,\n",
       " '2012-04-07': False,\n",
       " '2011-11-19': False,\n",
       " '2011-10-14': False,\n",
       " '2011-09-24': False,\n",
       " '2012-04-28': False,\n",
       " '2011-12-18': True,\n",
       " '2012-03-02': False,\n",
       " '2012-03-16': False,\n",
       " '2012-02-17': True,\n",
       " '2011-08-06': True,\n",
       " '2011-11-04': False,\n",
       " '2011-09-16': False,\n",
       " '2011-07-15': False,\n",
       " '2012-05-06': True,\n",
       " '2012-02-11': False,\n",
       " '2011-10-02': False,\n",
       " '2012-03-30': False,\n",
       " '2011-10-22': False,\n",
       " '2011-08-26': True,\n",
       " '2011-08-07': True,\n",
       " '2012-02-24': True,\n",
       " '2011-07-17': True,\n",
       " '2012-02-12': False,\n",
       " '2011-08-22': False,\n",
       " '2011-09-09': True,\n",
       " '2012-04-01': False,\n",
       " '2011-09-25': False,\n",
       " '2012-04-20': False,\n",
       " '2011-11-25': True,\n",
       " '2012-03-09': False,\n",
       " '2011-11-07': False,\n",
       " '2011-09-10': True,\n",
       " '2011-08-21': False,\n",
       " '2011-09-26': False,\n",
       " '2012-03-26': False,\n",
       " '2011-10-30': True,\n",
       " '2012-02-13': False,\n",
       " '2012-02-26': False,\n",
       " '2011-12-19': False,\n",
       " '2012-03-11': False,\n",
       " '2011-11-26': True,\n",
       " '2012-04-23': False,\n",
       " '2011-12-16': True,\n",
       " '2011-11-05': True,\n",
       " '2012-04-10': False,\n",
       " '2012-04-15': False,\n",
       " '2012-02-05': False,\n",
       " '2012-03-04': False,\n",
       " '2011-09-17': False,\n",
       " '2012-01-21': False,\n",
       " '2012-03-18': False,\n",
       " '2012-04-22': False,\n",
       " '2011-08-20': False,\n",
       " '2012-02-10': False,\n",
       " '2012-02-25': False,\n",
       " '2011-12-10': True,\n",
       " '2012-01-29': False,\n",
       " '2011-10-16': True,\n",
       " '2011-08-05': True,\n",
       " '2012-03-23': False,\n",
       " '2011-09-23': False,\n",
       " '2012-01-28': False,\n",
       " '2011-10-15': False,\n",
       " '2012-03-24': False,\n",
       " '2011-11-18': True,\n",
       " '2012-04-29': False,\n",
       " '2011-12-09': True,\n",
       " '2012-04-08': False,\n",
       " '2012-03-12': True,\n",
       " '2011-07-23': True,\n",
       " '2011-10-28': False,\n",
       " '2012-01-27': False,\n",
       " '2011-12-04': False,\n",
       " '2011-09-11': True,\n",
       " '2011-09-30': False,\n",
       " '2012-02-19': True,\n",
       " '2012-04-13': False,\n",
       " '2011-10-21': False,\n",
       " '2011-08-14': True,\n",
       " '2011-09-12': True,\n",
       " '2011-07-18': True,\n",
       " '2011-08-08': True,\n",
       " '2011-07-24': False,\n",
       " '2011-12-13': True,\n",
       " '2011-08-28': False,\n",
       " '2011-08-19': True,\n",
       " '2012-03-14': False,\n",
       " '2011-08-12': True,\n",
       " '2012-03-05': False,\n",
       " '2011-12-02': True,\n",
       " '2011-09-19': True,\n",
       " '2011-07-25': False,\n",
       " '2012-04-02': True,\n",
       " '2012-02-06': False,\n",
       " '2011-11-21': False,\n",
       " '2011-07-22': True,\n",
       " '2011-08-29': True,\n",
       " '2012-04-05': False,\n",
       " '2011-11-28': False,\n",
       " '2011-12-12': True,\n",
       " '2011-11-20': False,\n",
       " '2012-02-27': True,\n",
       " '2011-07-16': False,\n",
       " '2011-10-31': False,\n",
       " '2012-02-20': False,\n",
       " '2011-10-17': False,\n",
       " '2011-12-05': False,\n",
       " '2012-04-16': False,\n",
       " '2011-10-03': False,\n",
       " '2012-03-19': False,\n",
       " '2011-08-15': True,\n",
       " '2011-12-20': False,\n",
       " '2011-12-21': True,\n",
       " '2011-12-22': True,\n",
       " '2011-12-26': True,\n",
       " '2011-12-27': False,\n",
       " '2011-12-30': True,\n",
       " '2011-12-31': False,\n",
       " '2012-01-01': True,\n",
       " '2012-01-02': True,\n",
       " '2012-01-03': True,\n",
       " '2012-01-04': True,\n",
       " '2012-01-11': False,\n",
       " '2012-01-14': False,\n",
       " '2012-01-15': False,\n",
       " '2012-01-16': True,\n",
       " '2012-01-31': False,\n",
       " '2012-02-01': False,\n",
       " '2012-03-13': False,\n",
       " '2012-03-20': False,\n",
       " '2012-03-21': False,\n",
       " '2012-04-06': False,\n",
       " '2012-04-09': False,\n",
       " '2012-04-24': True,\n",
       " '2012-04-30': False,\n",
       " '2012-05-01': False,\n",
       " '2012-05-02': False,\n",
       " '2012-05-07': False,\n",
       " '2012-05-08': False,\n",
       " '2012-05-13': False}"
      ]
     },
     "execution_count": 55,
     "metadata": {},
     "output_type": "execute_result"
    }
   ],
   "source": [
    "rain_days"
   ]
  },
  {
   "cell_type": "code",
   "execution_count": null,
   "metadata": {},
   "outputs": [],
   "source": [
    "class mongo_helper:\n",
    "    def __init__(self, client=None, database=None, collection=None):\n",
    "        self.client=client\n",
    "        self.db=database\n",
    "        self.coll="
   ]
  },
  {
   "cell_type": "code",
   "execution_count": null,
   "metadata": {},
   "outputs": [],
   "source": []
  }
 ],
 "metadata": {
  "kernelspec": {
   "display_name": "learn-env",
   "language": "python",
   "name": "learn-env"
  },
  "language_info": {
   "codemirror_mode": {
    "name": "ipython",
    "version": 3
   },
   "file_extension": ".py",
   "mimetype": "text/x-python",
   "name": "python",
   "nbconvert_exporter": "python",
   "pygments_lexer": "ipython3",
   "version": "3.7.3"
  }
 },
 "nbformat": 4,
 "nbformat_minor": 4
}
