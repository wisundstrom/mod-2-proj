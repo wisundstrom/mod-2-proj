{
 "cells": [
  {
   "cell_type": "code",
   "execution_count": 16,
   "metadata": {},
   "outputs": [],
   "source": [
    "import sqlite3 \n",
    "conn = sqlite3.connect('database.sqlite')\n",
    "c = conn.cursor()\n",
    "import pandas as pd\n",
    "import requests\n",
    "import json"
   ]
  },
  {
   "cell_type": "code",
   "execution_count": 5,
   "metadata": {},
   "outputs": [
    {
     "data": {
      "text/plain": [
       "[(15, 'Aachen'),\n",
       " (39, 'Arsenal'),\n",
       " (20, 'Aston Villa'),\n",
       " (20, 'Augsburg'),\n",
       " (49, 'Bayern Munich'),\n",
       " (26, 'Blackburn'),\n",
       " (23, 'Bochum'),\n",
       " (23, 'Bolton'),\n",
       " (21, 'Braunschweig'),\n",
       " (41, 'Chelsea'),\n",
       " (18, 'Cottbus'),\n",
       " (44, 'Dortmund'),\n",
       " (30, 'Dresden'),\n",
       " (23, 'Duisburg'),\n",
       " (38, 'Ein Frankfurt'),\n",
       " (19, 'Erzgebirge Aue'),\n",
       " (28, 'Everton'),\n",
       " (20, 'FC Koln'),\n",
       " (35, 'Fortuna Dusseldorf'),\n",
       " (20, 'Frankfurt FSV'),\n",
       " (24, 'Freiburg'),\n",
       " (36, 'Fulham'),\n",
       " (46, 'Greuther Furth'),\n",
       " (19, 'Hamburg'),\n",
       " (31, 'Hannover'),\n",
       " (20, 'Hansa Rostock'),\n",
       " (19, 'Hertha'),\n",
       " (21, 'Hoffenheim'),\n",
       " (28, 'Ingolstadt'),\n",
       " (12, 'Kaiserslautern'),\n",
       " (23, 'Karlsruhe'),\n",
       " (28, 'Leverkusen'),\n",
       " (24, 'Liverpool'),\n",
       " (29, \"M'gladbach\"),\n",
       " (27, 'Mainz'),\n",
       " (55, 'Man City'),\n",
       " (52, 'Man United'),\n",
       " (35, 'Munich 1860'),\n",
       " (29, 'Newcastle'),\n",
       " (28, 'Norwich'),\n",
       " (22, 'Nurnberg'),\n",
       " (28, 'Paderborn'),\n",
       " (24, 'QPR'),\n",
       " (47, 'Schalke 04'),\n",
       " (36, 'St Pauli'),\n",
       " (25, 'Stoke'),\n",
       " (36, 'Stuttgart'),\n",
       " (26, 'Sunderland'),\n",
       " (27, 'Swansea'),\n",
       " (39, 'Tottenham'),\n",
       " (30, 'Union Berlin'),\n",
       " (31, 'Werder Bremen'),\n",
       " (21, 'West Brom'),\n",
       " (22, 'Wigan'),\n",
       " (29, 'Wolfsburg'),\n",
       " (19, 'Wolves')]"
      ]
     },
     "execution_count": 5,
     "metadata": {},
     "output_type": "execute_result"
    }
   ],
   "source": [
    "c.execute(\"\"\"\n",
    "    SELECT SUM(FTHG), HomeTeam\n",
    "    FROM Matches\n",
    "    WHERE Season=2011\n",
    "    GROUP BY HomeTeam\n",
    "    \n",
    "\"\"\").fetchall()"
   ]
  },
  {
   "cell_type": "code",
   "execution_count": 6,
   "metadata": {},
   "outputs": [
    {
     "data": {
      "text/plain": [
       "[(15, 'Aachen'),\n",
       " (35, 'Arsenal'),\n",
       " (17, 'Aston Villa'),\n",
       " (16, 'Augsburg'),\n",
       " (28, 'Bayern Munich'),\n",
       " (22, 'Blackburn'),\n",
       " (18, 'Bochum'),\n",
       " (23, 'Bolton'),\n",
       " (16, 'Braunschweig'),\n",
       " (24, 'Chelsea'),\n",
       " (12, 'Cottbus'),\n",
       " (36, 'Dortmund'),\n",
       " (20, 'Dresden'),\n",
       " (19, 'Duisburg'),\n",
       " (38, 'Ein Frankfurt'),\n",
       " (12, 'Erzgebirge Aue'),\n",
       " (22, 'Everton'),\n",
       " (19, 'FC Koln'),\n",
       " (29, 'Fortuna Dusseldorf'),\n",
       " (23, 'Frankfurt FSV'),\n",
       " (21, 'Freiburg'),\n",
       " (12, 'Fulham'),\n",
       " (27, 'Greuther Furth'),\n",
       " (16, 'Hamburg'),\n",
       " (10, 'Hannover'),\n",
       " (14, 'Hansa Rostock'),\n",
       " (19, 'Hertha'),\n",
       " (20, 'Hoffenheim'),\n",
       " (15, 'Ingolstadt'),\n",
       " (12, 'Kaiserslautern'),\n",
       " (11, 'Karlsruhe'),\n",
       " (24, 'Leverkusen'),\n",
       " (23, 'Liverpool'),\n",
       " (20, \"M'gladbach\"),\n",
       " (20, 'Mainz'),\n",
       " (38, 'Man City'),\n",
       " (37, 'Man United'),\n",
       " (27, 'Munich 1860'),\n",
       " (27, 'Newcastle'),\n",
       " (24, 'Norwich'),\n",
       " (16, 'Nurnberg'),\n",
       " (23, 'Paderborn'),\n",
       " (19, 'QPR'),\n",
       " (27, 'Schalke 04'),\n",
       " (23, 'St Pauli'),\n",
       " (11, 'Stoke'),\n",
       " (27, 'Stuttgart'),\n",
       " (19, 'Sunderland'),\n",
       " (17, 'Swansea'),\n",
       " (27, 'Tottenham'),\n",
       " (25, 'Union Berlin'),\n",
       " (18, 'Werder Bremen'),\n",
       " (24, 'West Brom'),\n",
       " (20, 'Wigan'),\n",
       " (18, 'Wolfsburg'),\n",
       " (21, 'Wolves')]"
      ]
     },
     "execution_count": 6,
     "metadata": {},
     "output_type": "execute_result"
    }
   ],
   "source": [
    "c.execute(\"\"\"\n",
    "    SELECT SUM(FTAG), AwayTeam\n",
    "    FROM Matches\n",
    "    WHERE Season=2011\n",
    "    GROUP BY AwayTeam\n",
    "    \n",
    "\"\"\").fetchall("
   ]
  },
  {
   "cell_type": "code",
   "execution_count": 38,
   "metadata": {},
   "outputs": [
    {
     "data": {
      "text/plain": [
       "'https://api.darksky.net/forecast/d423b19fb99491f71f1f514439786979/52.517,13.3889,1270339200?exclude=currently,flags,currently,minutely,hourly'"
      ]
     },
     "execution_count": 38,
     "metadata": {},
     "output_type": "execute_result"
    }
   ],
   "source": [
    "url= f\"https://api.darksky.net/forecast/d423b19fb99491f71f1f514439786979/52.517,13.3889,{ts}?exclude=currently,flags,currently,minutely,hourly\"\n",
    "#52.5200° N, 13.4050° E\n",
    "#\"precipProbability\": 1\n",
    "# 52.517, 13.3889\n",
    "url"
   ]
  },
  {
   "cell_type": "code",
   "execution_count": 34,
   "metadata": {},
   "outputs": [],
   "source": [
    "response = requests.get(url)"
   ]
  },
  {
   "cell_type": "code",
   "execution_count": 35,
   "metadata": {},
   "outputs": [
    {
     "name": "stdout",
     "output_type": "stream",
     "text": [
      "<Response [200]>\n",
      "<class 'str'>\n",
      "{\"latitude\":52.517,\"longitude\":13.3889,\"timezone\":\"Europe/Berlin\",\"daily\":{\"data\":[{\"time\":1270332000,\"summary\":\"Mostly cloudy throughout the day.\",\"icon\":\"partly-cloudy-day\",\"sunriseTime\":1270355695,\"sunsetTime\":1270403169,\"moonPhase\":0.7,\"precipIntensity\":0,\"precipIntensityMax\":0,\"precipProbability\":0,\"temperatureHigh\":57.96,\"temperatureHighTime\":1270389600,\"temperatureLow\":44.3,\"temperatureLowTime\":1270425600,\"apparentTemperatureHigh\":57.96,\"apparentTemperatureHighTime\":1270389600,\"apparentTemperatureLow\":38.6,\"apparentTemperatureLowTime\":1270436400,\"dewPoint\":38.01,\"humidity\":0.62,\"windSpeed\":9.21,\"windGust\":14.99,\"windGustTime\":1270400400,\"windBearing\":180,\"cloudCover\":0.74,\"uvIndex\":4,\"uvIndexTime\":1270378800,\"visibility\":6.216,\"temperatureMin\":45.62,\"temperatureMinTime\":1270342800,\"temperatureMax\":57.96,\"temperatureMaxTime\":1270389600,\"apparentTemperatureMin\":41.42,\"apparentTemperatureMinTime\":1270350000,\"apparentTemperatureMax\":57.96,\"apparentTemperatureMaxTime\":1270389600}]},\"\n"
     ]
    }
   ],
   "source": [
    "print(response)\n",
    "print(type(response.text))\n",
    "print(response.text[:1000])"
   ]
  },
  {
   "cell_type": "code",
   "execution_count": 27,
   "metadata": {},
   "outputs": [
    {
     "data": {
      "text/plain": [
       "0"
      ]
     },
     "execution_count": 27,
     "metadata": {},
     "output_type": "execute_result"
    }
   ],
   "source": [
    "response.json()['daily']['data'][0]['precipProbability']"
   ]
  },
  {
   "cell_type": "code",
   "execution_count": null,
   "metadata": {},
   "outputs": [],
   "source": [
    "#def date_formatter(table_date)\n",
    "    darksky_date=table_data."
   ]
  },
  {
   "cell_type": "code",
   "execution_count": 32,
   "metadata": {},
   "outputs": [],
   "source": [
    "date=\"2010-04-04\"\n",
    "#date_formatter(date)\n",
    "date_dt=pd.to_datetime(date)\n",
    "ts=int(date_dt.timestamp())"
   ]
  },
  {
   "cell_type": "code",
   "execution_count": 41,
   "metadata": {},
   "outputs": [],
   "source": [
    "class rain_req:\n",
    "    \n",
    "    def __init__(self, date):\n",
    "        self.date=date\n",
    "        self.date_dt=pd.to_datetime(date)\n",
    "        self.date_unix=int(self.date_dt.timestamp())\n",
    "        self.url= f\"https://api.darksky.net/forecast/d423b19fb99491f71f1f514439786979/52.517,13.3889,{self.date_unix}?exclude=currently,flags,currently,minutely,hourly\"\n",
    "\n",
    "        \n",
    "    def send(self):\n",
    "        self.response=requests.get(self.url)\n",
    "        return print(response)\n",
    "        \n",
    "    def did_it_rain(self):\n",
    "        self.rain=self.response.json()['daily']['data'][0]['precipProbability']\n",
    "        return self.rain\n",
    "    \n",
    "        \n",
    "    "
   ]
  },
  {
   "cell_type": "code",
   "execution_count": 42,
   "metadata": {},
   "outputs": [],
   "source": [
    "test=rain_req('2011-08-14')"
   ]
  },
  {
   "cell_type": "code",
   "execution_count": 43,
   "metadata": {},
   "outputs": [
    {
     "data": {
      "text/plain": [
       "'https://api.darksky.net/forecast/d423b19fb99491f71f1f514439786979/52.517,13.3889,1313280000?exclude=currently,flags,currently,minutely,hourly'"
      ]
     },
     "execution_count": 43,
     "metadata": {},
     "output_type": "execute_result"
    }
   ],
   "source": [
    "test.url"
   ]
  },
  {
   "cell_type": "code",
   "execution_count": 44,
   "metadata": {},
   "outputs": [
    {
     "name": "stdout",
     "output_type": "stream",
     "text": [
      "<Response [200]>\n"
     ]
    }
   ],
   "source": [
    "test.send()"
   ]
  },
  {
   "cell_type": "code",
   "execution_count": 45,
   "metadata": {},
   "outputs": [
    {
     "data": {
      "text/plain": [
       "1"
      ]
     },
     "execution_count": 45,
     "metadata": {},
     "output_type": "execute_result"
    }
   ],
   "source": [
    "test.did_it_rain()"
   ]
  },
  {
   "cell_type": "code",
   "execution_count": null,
   "metadata": {},
   "outputs": [],
   "source": []
  }
 ],
 "metadata": {
  "kernelspec": {
   "display_name": "learn-env",
   "language": "python",
   "name": "learn-env"
  },
  "language_info": {
   "codemirror_mode": {
    "name": "ipython",
    "version": 3
   },
   "file_extension": ".py",
   "mimetype": "text/x-python",
   "name": "python",
   "nbconvert_exporter": "python",
   "pygments_lexer": "ipython3",
   "version": "3.7.3"
  }
 },
 "nbformat": 4,
 "nbformat_minor": 4
}
